
{
 "cells": [
  {
   "cell_type": "markdown",
   "metadata": {},
   "source": [
    "# 🪑 Ergonomics Chair: Posture Classification with LSTM\n",
    "This updated notebook adds LSTM-based classification to detect posture types like upright, slouched, and leaning from joint positions."
   ]
  },
  {
   "cell_type": "code",
   "execution_count": null,
   "metadata": {},
   "outputs": [],
   "source": [
    "!pip install mediapipe opencv-python matplotlib pandas scikit-learn tensorflow"
   ]
  },
  {
   "cell_type": "code",
   "execution_count": null,
   "metadata": {},
   "outputs": [],
   "source": [
    "import cv2\n",
    "import mediapipe as mp\n",
    "import numpy as np\n",
    "import pandas as pd\n",
    "from sklearn.model_selection import train_test_split\n",
    "from sklearn.preprocessing import MinMaxScaler\n",
    "from tensorflow.keras.models import Sequential\n",
    "from tensorflow.keras.layers import LSTM, Dense, Reshape\n",
    "from google.colab import files\n",
    "from google.colab.patches import cv2_imshow"
   ]
  },
  {
   "cell_type": "markdown",
   "metadata": {},
   "source": [
    "## 📤 Upload Subject Video"
   ]
  },
  {
   "cell_type": "code",
   "execution_count": null,
   "metadata": {},
   "outputs": [],
   "source": [
    "uploaded = files.upload()"
   ]
  },
  {
   "cell_type": "code",
   "execution_count": null,
   "metadata": {},
   "outputs": [],
   "source": [
    "mp_pose = mp.solutions.pose\n",
    "pose = mp_pose.Pose()\n",
    "video_path = list(uploaded.keys())[0]\n",
    "cap = cv2.VideoCapture(video_path)\n",
    "landmarks_all = []\n",
    "while cap.isOpened():\n",
    "    ret, frame = cap.read()\n",
    "    if not ret:\n",
    "        break\n",
    "    image_rgb = cv2.cvtColor(frame, cv2.COLOR_BGR2RGB)\n",
    "    results = pose.process(image_rgb)\n",
    "    if results.pose_landmarks:\n",
    "        joints = []\n",
    "        for lm in results.pose_landmarks.landmark:\n",
    "            joints.extend([lm.x, lm.y, lm.z])\n",
    "        landmarks_all.append(joints)\n",
    "cap.release()\n",
    "landmarks_array = np.array(landmarks_all)"
   ]
  },
  {
   "cell_type": "markdown",
   "metadata": {},
   "source": [
    "## 🏷️ Manually Label Postures (0: Upright, 1: Leaned, 2: Slouched)"
   ]
  },
  {
   "cell_type": "code",
   "execution_count": null,
   "metadata": {},
   "outputs": [],
   "source": [
    "# Example: Assign fake labels for demo purposes\n",
    "num_samples = len(landmarks_array)\n",
    "y_labels = np.zeros(num_samples)\n",
    "y_labels[int(num_samples/3):int(2*num_samples/3)] = 1\n",
    "y_labels[int(2*num_samples/3):] = 2"
   ]
  },
  {
   "cell_type": "markdown",
   "metadata": {},
   "source": [
    "## 🤖 Train LSTM for Posture Classification"
   ]
  },
  {
   "cell_type": "code",
   "execution_count": null,
   "metadata": {},
   "outputs": [],
   "source": [
    "X = landmarks_array\n",
    "scaler = MinMaxScaler()\n",
    "X_scaled = scaler.fit_transform(X)\n",
    "X_seq = X_scaled.reshape(X_scaled.shape[0], 1, X_scaled.shape[1])\n",
    "y = pd.get_dummies(y_labels).values\n",
    "X_train, X_test, y_train, y_test = train_test_split(X_seq, y, test_size=0.2)\n",
    "\n",
    "model = Sequential([\n",
    "    LSTM(64, input_shape=(1, X_scaled.shape[1])),\n",
    "    Dense(32, activation='relu'),\n",
    "    Dense(3, activation='softmax')\n",
    "])\n",
    "\n",
    "model.compile(optimizer='adam', loss='categorical_crossentropy', metrics=['accuracy'])\n",
    "model.fit(X_train, y_train, epochs=15, batch_size=32, validation_data=(X_test, y_test))"
   ]
  }
 ],
 "metadata": {
  "kernelspec": {
   "display_name": "Python 3",
   "language": "python",
   "name": "python3"
  },
  "language_info": {
   "name": "python"
  }
 },
 "nbformat": 4,
 "nbformat_minor": 2
}
