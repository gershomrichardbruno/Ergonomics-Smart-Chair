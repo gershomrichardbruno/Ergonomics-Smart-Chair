
{
 "cells": [
  {
   "cell_type": "markdown",
   "metadata": {},
   "source": [
    "# 🪑 Ergonomics Chair: Seat Angle and Acceleration Analysis\n",
    "This notebook processes an uploaded video to:\n",
    "- Extract body posture landmarks using MediaPipe\n",
    "- Calculate seat/backrest angle using hip-shoulder-ear\n",
    "- Compute acceleration from angular velocity\n",
    "- Display joint markers and live overlay of angle/acceleration"
   ]
  },
  {
   "cell_type": "code",
   "metadata": {},
   "source": [
    "!pip install mediapipe opencv-python matplotlib pandas --quiet"
   ]
  },
  {
   "cell_type": "code",
   "metadata": {},
   "source": [
    "import cv2\n",
    "import mediapipe as mp\n",
    "import numpy as np\n",
    "import pandas as pd\n",
    "from google.colab.patches import cv2_imshow\n",
    "from google.colab import files"
   ]
  },
  {
   "cell_type": "markdown",
   "metadata": {},
   "source": [
    "## 📤 Upload Video File"
   ]
  },
  {
   "cell_type": "code",
   "metadata": {},
   "source": [
    "uploaded = files.upload()\n",
    "video_path = list(uploaded.keys())[0]"
   ]
  },
  {
   "cell_type": "markdown",
   "metadata": {},
   "source": [
    "## 🎯 Extract Landmarks and Compute Seat Angle + Acceleration"
   ]
  },
  {
   "cell_type": "code",
   "metadata": {},
   "source": [
    "mp_pose = mp.solutions.pose\n",
    "pose = mp_pose.Pose()\n",
    "mp_drawing = mp.solutions.drawing_utils\n",
    "\n",
    "def calculate_angle(a, b, c):\n",
    "    a, b, c = np.array(a), np.array(b), np.array(c)\n",
    "    ba = a - b\n",
    "    bc = c - b\n",
    "    cosine_angle = np.dot(ba, bc) / (np.linalg.norm(ba) * np.linalg.norm(bc))\n",
    "    return np.degrees(np.arccos(np.clip(cosine_angle, -1.0, 1.0)))\n",
    "\n",
    "cap = cv2.VideoCapture(video_path)\n",
    "angles = []\n",
    "frames = []\n",
    "while cap.isOpened():\n",
    "    ret, frame = cap.read()\n",
    "    if not ret:\n",
    "        break\n",
    "    image_rgb = cv2.cvtColor(frame, cv2.COLOR_BGR2RGB)\n",
    "    results = pose.process(image_rgb)\n",
    "    if results.pose_landmarks:\n",
    "        lm = results.pose_landmarks.landmark\n",
    "        h, w, _ = frame.shape\n",
    "        hip = [lm[24].x * w, lm[24].y * h]\n",
    "        shoulder = [lm[12].x * w, lm[12].y * h]\n",
    "        ear = [lm[8].x * w, lm[8].y * h]\n",
    "        angle = calculate_angle(hip, shoulder, ear)\n",
    "        angles.append(angle)\n",
    "        frames.append(frame)\n",
    "cap.release()"
   ]
  },
  {
   "cell_type": "markdown",
   "metadata": {},
   "source": [
    "## 📈 Calculate Acceleration from Angle Change"
   ]
  },
  {
   "cell_type": "code",
   "metadata": {},
   "source": [
    "fps = 30  # assumed FPS\n",
    "angles_np = np.array(angles)\n",
    "velocities = np.diff(angles_np) * fps\n",
    "accelerations = np.diff(velocities) * fps\n",
    "accelerations = np.insert(accelerations, 0, [0])\n",
    "accelerations = np.insert(accelerations, 0, [0])"
   ]
  },
  {
   "cell_type": "markdown",
   "metadata": {},
   "source": [
    "## 📹 Visualize Markers, Angle, and Acceleration Frame-by-Frame"
   ]
  },
  {
   "cell_type": "code",
   "metadata": {},
   "source": [
    "for i, frame in enumerate(frames):\n",
    "    if i >= len(accelerations): break\n",
    "    text_angle = f"Angle: {angles[i]:.2f}"\n",
    "    text_acc = f"Accel: {accelerations[i]:.2f}"\n",
    "    cv2.putText(frame, text_angle, (20, 40), cv2.FONT_HERSHEY_SIMPLEX, 1.2, (255, 0, 0), 2)\n",
    "    cv2.putText(frame, text_acc, (20, 80), cv2.FONT_HERSHEY_SIMPLEX, 1.2, (0, 0, 255), 2)\n",
    "    frame = cv2.resize(frame, (640, 480))\n",
    "    cv2_imshow(frame)"
   ]
  }
 ],
 "metadata": {
  "kernelspec": {
   "display_name": "Python 3",
   "language": "python",
   "name": "python3"
  },
  "language_info": {
   "name": "python"
  }
 },
 "nbformat": 4,
 "nbformat_minor": 2
}
